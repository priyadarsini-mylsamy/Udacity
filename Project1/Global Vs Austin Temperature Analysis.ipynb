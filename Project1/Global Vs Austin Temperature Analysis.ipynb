{
 "cells": [
  {
   "cell_type": "code",
   "execution_count": 1,
   "metadata": {},
   "outputs": [],
   "source": [
    "import pandas as pd\n",
    "import matplotlib.pyplot as pt\n"
   ]
  },
  {
   "cell_type": "markdown",
   "metadata": {},
   "source": [
    "import the global data csv"
   ]
  },
  {
   "cell_type": "code",
   "execution_count": 9,
   "metadata": {},
   "outputs": [],
   "source": [
    "global_temperature_df = pd.read_csv('/home/pri/github-projects/Udacity/Project1/Global_temperature.csv')\n"
   ]
  },
  {
   "cell_type": "markdown",
   "metadata": {},
   "source": [
    "import the Austin global data csv"
   ]
  },
  {
   "cell_type": "code",
   "execution_count": 10,
   "metadata": {},
   "outputs": [],
   "source": [
    "Austin_temperature_df= pd.read_csv('/home/pri/github-projects/Udacity/Project1/Austin_temperature.csv')\n"
   ]
  },
  {
   "cell_type": "markdown",
   "metadata": {},
   "source": [
    "Merge the temperature from both the spreadsheets for analysis and vizualization"
   ]
  },
  {
   "cell_type": "code",
   "execution_count": 22,
   "metadata": {},
   "outputs": [
    {
     "name": "stdout",
     "output_type": "stream",
     "text": [
      "     year  avg_temp  10Year_Global_MovingAvg  avg_temp_austin  \\\n",
      "0    1820      7.62                    7.322            18.83   \n",
      "1    1821      8.09                    7.445            20.75   \n",
      "2    1822      8.19                    7.559            25.48   \n",
      "3    1823      7.72                    7.557            19.34   \n",
      "4    1824      8.55                    7.653            19.90   \n",
      "5    1825      8.39                    7.768            20.15   \n",
      "6    1826      8.36                    7.910            19.87   \n",
      "7    1827      8.81                    8.093            20.52   \n",
      "8    1828      8.17                    8.127            20.02   \n",
      "9    1829      7.94                    8.184            19.71   \n",
      "10   1830      8.52                    8.274            20.39   \n",
      "11   1831      7.64                    8.229            18.96   \n",
      "12   1832      7.45                    8.155            19.55   \n",
      "13   1833      8.01                    8.184            20.03   \n",
      "14   1834      8.15                    8.144            20.22   \n",
      "15   1835      7.39                    8.044            18.35   \n",
      "16   1836      7.70                    7.978            18.75   \n",
      "17   1837      7.38                    7.835            19.34   \n",
      "18   1838      7.51                    7.769            18.52   \n",
      "19   1839      7.63                    7.738            19.38   \n",
      "20   1840      7.80                    7.666            19.50   \n",
      "21   1841      7.69                    7.671            19.54   \n",
      "22   1842      8.02                    7.728            19.81   \n",
      "23   1843      8.17                    7.744            19.56   \n",
      "24   1844      7.65                    7.694            19.69   \n",
      "25   1845      7.85                    7.740            19.43   \n",
      "26   1846      8.55                    7.825            20.00   \n",
      "27   1847      8.09                    7.896            19.15   \n",
      "28   1848      7.98                    7.943            19.38   \n",
      "29   1849      7.98                    7.978            19.96   \n",
      "..    ...       ...                      ...              ...   \n",
      "164  1984      8.69                    8.787            20.62   \n",
      "165  1985      8.66                    8.779            20.07   \n",
      "166  1986      8.83                    8.827            20.56   \n",
      "167  1987      8.99                    8.841            19.73   \n",
      "168  1988      9.20                    8.892            20.28   \n",
      "169  1989      8.92                    8.911            19.99   \n",
      "170  1990      9.23                    8.936            20.93   \n",
      "171  1991      9.18                    8.937            20.22   \n",
      "172  1992      8.84                    8.957            20.07   \n",
      "173  1993      8.87                    8.941            19.72   \n",
      "174  1994      9.04                    8.976            20.50   \n",
      "175  1995      9.35                    9.045            20.35   \n",
      "176  1996      9.04                    9.066            20.78   \n",
      "177  1997      9.20                    9.087            19.73   \n",
      "178  1998      9.52                    9.119            21.35   \n",
      "179  1999      9.29                    9.156            21.35   \n",
      "180  2000      9.20                    9.153            21.12   \n",
      "181  2001      9.41                    9.176            20.35   \n",
      "182  2002      9.57                    9.249            20.30   \n",
      "183  2003      9.53                    9.315            20.37   \n",
      "184  2004      9.32                    9.343            20.45   \n",
      "185  2005      9.70                    9.378            20.90   \n",
      "186  2006      9.53                    9.427            21.56   \n",
      "187  2007      9.73                    9.480            19.98   \n",
      "188  2008      9.43                    9.471            20.91   \n",
      "189  2009      9.51                    9.493            21.06   \n",
      "190  2010      9.70                    9.543            20.10   \n",
      "191  2011      9.52                    9.554            21.66   \n",
      "192  2012      9.51                    9.548            21.56   \n",
      "193  2013      9.61                    9.556            22.18   \n",
      "\n",
      "     10Year_Austin_Moving_Avg  \n",
      "0                         NaN  \n",
      "1                         NaN  \n",
      "2                         NaN  \n",
      "3                         NaN  \n",
      "4                         NaN  \n",
      "5                         NaN  \n",
      "6                         NaN  \n",
      "7                         NaN  \n",
      "8                         NaN  \n",
      "9                      20.457  \n",
      "10                     20.613  \n",
      "11                     20.434  \n",
      "12                     19.841  \n",
      "13                     19.910  \n",
      "14                     19.942  \n",
      "15                     19.762  \n",
      "16                     19.650  \n",
      "17                     19.532  \n",
      "18                     19.382  \n",
      "19                     19.349  \n",
      "20                     19.260  \n",
      "21                     19.318  \n",
      "22                     19.344  \n",
      "23                     19.297  \n",
      "24                     19.244  \n",
      "25                     19.352  \n",
      "26                     19.477  \n",
      "27                     19.458  \n",
      "28                     19.544  \n",
      "29                     19.602  \n",
      "..                        ...  \n",
      "164                    19.879  \n",
      "165                    19.893  \n",
      "166                    20.045  \n",
      "167                    19.988  \n",
      "168                    20.061  \n",
      "169                    20.146  \n",
      "170                    20.209  \n",
      "171                    20.199  \n",
      "172                    20.167  \n",
      "173                    20.219  \n",
      "174                    20.207  \n",
      "175                    20.235  \n",
      "176                    20.257  \n",
      "177                    20.257  \n",
      "178                    20.364  \n",
      "179                    20.500  \n",
      "180                    20.519  \n",
      "181                    20.532  \n",
      "182                    20.555  \n",
      "183                    20.620  \n",
      "184                    20.615  \n",
      "185                    20.670  \n",
      "186                    20.748  \n",
      "187                    20.773  \n",
      "188                    20.729  \n",
      "189                    20.700  \n",
      "190                    20.598  \n",
      "191                    20.729  \n",
      "192                    20.855  \n",
      "193                    21.036  \n",
      "\n",
      "[194 rows x 5 columns]\n"
     ]
    }
   ],
   "source": [
    "x_df = pd.merge(global_temperature_df, Austin_temperature_df,on='year',how='inner')\n",
    "print(x_df)"
   ]
  },
  {
   "cell_type": "code",
   "execution_count": 36,
   "metadata": {},
   "outputs": [],
   "source": [
    "Global_vs_Austin_Temperature = x_df[['year','10Year_Global_MovingAvg','10Year_Austin_Moving_Avg']][x_df['year'] >= 1830]"
   ]
  },
  {
   "cell_type": "code",
   "execution_count": 37,
   "metadata": {},
   "outputs": [
    {
     "data": {
      "text/html": [
       "<div>\n",
       "<style scoped>\n",
       "    .dataframe tbody tr th:only-of-type {\n",
       "        vertical-align: middle;\n",
       "    }\n",
       "\n",
       "    .dataframe tbody tr th {\n",
       "        vertical-align: top;\n",
       "    }\n",
       "\n",
       "    .dataframe thead th {\n",
       "        text-align: right;\n",
       "    }\n",
       "</style>\n",
       "<table border=\"1\" class=\"dataframe\">\n",
       "  <thead>\n",
       "    <tr style=\"text-align: right;\">\n",
       "      <th></th>\n",
       "      <th>year</th>\n",
       "      <th>10Year_Global_MovingAvg</th>\n",
       "      <th>10Year_Austin_Moving_Avg</th>\n",
       "    </tr>\n",
       "  </thead>\n",
       "  <tbody>\n",
       "    <tr>\n",
       "      <th>10</th>\n",
       "      <td>1830</td>\n",
       "      <td>8.274</td>\n",
       "      <td>20.613</td>\n",
       "    </tr>\n",
       "    <tr>\n",
       "      <th>11</th>\n",
       "      <td>1831</td>\n",
       "      <td>8.229</td>\n",
       "      <td>20.434</td>\n",
       "    </tr>\n",
       "    <tr>\n",
       "      <th>12</th>\n",
       "      <td>1832</td>\n",
       "      <td>8.155</td>\n",
       "      <td>19.841</td>\n",
       "    </tr>\n",
       "    <tr>\n",
       "      <th>13</th>\n",
       "      <td>1833</td>\n",
       "      <td>8.184</td>\n",
       "      <td>19.910</td>\n",
       "    </tr>\n",
       "    <tr>\n",
       "      <th>14</th>\n",
       "      <td>1834</td>\n",
       "      <td>8.144</td>\n",
       "      <td>19.942</td>\n",
       "    </tr>\n",
       "  </tbody>\n",
       "</table>\n",
       "</div>"
      ],
      "text/plain": [
       "    year  10Year_Global_MovingAvg  10Year_Austin_Moving_Avg\n",
       "10  1830                    8.274                    20.613\n",
       "11  1831                    8.229                    20.434\n",
       "12  1832                    8.155                    19.841\n",
       "13  1833                    8.184                    19.910\n",
       "14  1834                    8.144                    19.942"
      ]
     },
     "execution_count": 37,
     "metadata": {},
     "output_type": "execute_result"
    }
   ],
   "source": [
    "Global_vs_Austin_Temperature.head()"
   ]
  },
  {
   "cell_type": "code",
   "execution_count": 55,
   "metadata": {},
   "outputs": [
    {
     "data": {
      "image/png": "[encoded data removed]",
      "text/plain": [
       "<matplotlib.figure.Figure at 0x7fe971347cf8>"
      ]
     },
     "metadata": {},
     "output_type": "display_data"
    }
   ],
   "source": [
    "#pt.plot(Global_vs_Austin_Temperature['year'],Global_vs_Austin_Temperature['10Year_Global_MovingAvg'],Global_vs_Austin_Temperature['10Year_Austin_MovingAvg'])\n",
    "pt.plot( 'year', '10Year_Global_MovingAvg', data=Global_vs_Austin_Temperature, marker='', color='blue', linewidth=2)\n",
    "pt.plot( 'year', '10Year_Austin_Moving_Avg', data=Global_vs_Austin_Temperature, marker='', color='orange', linewidth=2)\n",
    "pt.title(\"Global Vs Austin Temperature\")\n",
    "pt.xlabel(\"Year\")\n",
    "pt.ylabel(\"Temperature\")\n",
    "pt.legend()\n",
    "pt.rcParams[\"figure.figsize\"] = (9,9)\n",
    "pt.show()"
   ]
  },
  {
   "cell_type": "code",
   "execution_count": null,
   "metadata": {},
   "outputs": [],
   "source": []
  }
 ],
 "metadata": {
  "kernelspec": {
   "display_name": "Python 3",
   "language": "python",
   "name": "python3"
  },
  "language_info": {
   "codemirror_mode": {
    "name": "ipython",
    "version": 3
   },
   "file_extension": ".py",
   "mimetype": "text/x-python",
   "name": "python",
   "nbconvert_exporter": "python",
   "pygments_lexer": "ipython3",
   "version": "3.5.4"
  }
 },
 "nbformat": 4,
 "nbformat_minor": 2
}
